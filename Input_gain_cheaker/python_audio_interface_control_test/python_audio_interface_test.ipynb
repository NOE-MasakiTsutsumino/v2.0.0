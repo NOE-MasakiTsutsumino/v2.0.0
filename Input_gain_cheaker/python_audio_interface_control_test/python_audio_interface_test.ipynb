{
 "cells": [
  {
   "cell_type": "code",
   "execution_count": null,
   "metadata": {},
   "outputs": [],
   "source": [
    "# ライブラリのimport\n",
    "import sounddevice as sd\n",
    "# sounddeviceはデータをnumpyで取り扱うため、import必須\n",
    "import numpy as np\n",
    "\n",
    "####\n",
    "from matplotlib.animation import FuncAnimation\n",
    "import matplotlib.pyplot as plt"
   ]
  },
  {
   "cell_type": "code",
   "execution_count": null,
   "metadata": {},
   "outputs": [],
   "source": [
    "# デバイス一覧およびIDを取得\n",
    "# 使用するデバイスを指定するためにまず使用可能なデバイス情報を取得して調べる\n",
    "device_list = sd.query_devices()\n",
    "print(device_list)"
   ]
  },
  {
   "cell_type": "code",
   "execution_count": null,
   "metadata": {},
   "outputs": [],
   "source": [
    "#### 初期設定(ここで設定せず都度設定しても良い)\n",
    "sd.default.device = 17 # 使用するデバイスのID\n",
    "sd.default.samplerate = 48000 # # 入出力に使用されるサンプルレート\n",
    "sd.default.channels = 1 # 入出力チャンネル数の数\n",
    "sd.default.dtype = 'float32' # 入出力に使用されるサンプルのデータ型 defaultはfloat32"
   ]
  },
  {
   "cell_type": "code",
   "execution_count": null,
   "metadata": {},
   "outputs": [],
   "source": [
    "# 全ての設定をリセット\n",
    "sd.default.reset()"
   ]
  },
  {
   "cell_type": "code",
   "execution_count": null,
   "metadata": {},
   "outputs": [],
   "source": [
    "#### サンプルプログラム\n",
    "# 5秒間録音してプロットする apiはasio使用\n",
    "\n",
    "# 記録する秒数\n",
    "duration = 5\n",
    "# サンプルレート\n",
    "fs = 48000\n",
    "# チャンネル数\n",
    "ch = 2\n",
    "\n",
    "# Asioデバイスの設定\n",
    "asio_in = sd.AsioSettings(channel_selectors = [0,1])\n",
    "\n",
    "# 録音開始\n",
    "recdata = sd.rec(int(duration * fs),\n",
    "                samplerate = fs,channels = ch, extra_settings=asio_in)\n",
    "\n",
    "# 録音が完了するまで以後の処理を待機\n",
    "sd.wait()\n",
    "\n",
    "# グラフの描画\n",
    "length = int(1000 * fs / (1000 * duration))\n",
    "fig, ax = plt.subplots()\n",
    "line = ax.plot(recdata)\n",
    "ax.set_ylim([-1.0, 1.0])\n",
    "ax.yaxis.grid(True)\n",
    "fig.tight_layout()\n",
    "plt.show()"
   ]
  },
  {
   "cell_type": "code",
   "execution_count": null,
   "metadata": {},
   "outputs": [],
   "source": [
    "# 記録する秒数\n",
    "duration = 5\n",
    "# サンプルレート\n",
    "fs = 44100\n",
    "# チャンネル数\n",
    "ch = 2\n",
    "\n",
    "# 使用するデバイスのID\n",
    "sd.default.device = 5\n",
    "# 入出力のデータ型\n",
    "sd.default.dtype = 'float32'\n",
    "\n",
    "# Asioデバイスの設定\n",
    "asio_in = sd.AsioSettings(channel_selectors = [0,1])\n",
    "\n",
    "def callback(indata, frames, time, status):\n",
    "    print(indata.shape)\n",
    "\n",
    "with sd.InputStream(\n",
    "        channels = ch,\n",
    "        callback = callback\n",
    "    ):\n",
    "    sd.sleep(int(duration * 1000))"
   ]
  },
  {
   "cell_type": "code",
   "execution_count": null,
   "metadata": {},
   "outputs": [],
   "source": [
    "#### サンプルプログラム\n",
    "# 5秒間録音してプロットする apiはasio使用\n",
    "# UMC202HDの2-inputのマイク入力波形を録音してプロットする\n",
    "\n",
    "sd.default.device = 5\n",
    "# 記録する秒数\n",
    "duration = 5\n",
    "# サンプルレート\n",
    "fs = 44100\n",
    "# チャンネル数\n",
    "ch = 2\n",
    "# 入出力のデータ型\n",
    "sd.default.dtype = 'float32'\n",
    "\n",
    "# Asioデバイスの設定\n",
    "asio_in = sd.AsioSettings(channel_selectors = [0,1])\n",
    "\n",
    "# 録音開始\n",
    "recdata = sd.rec(int(duration * fs),\n",
    "                samplerate = fs,channels = ch, extra_settings = asio_in)\n",
    "\n",
    "# 録音が完了するまで以後の処理を待機\n",
    "sd.wait()\n",
    "\n",
    "print(recdata.shape)\n",
    "\n",
    "# グラフ描画\n",
    "fig = plt.figure()\n",
    "length = int(fs * duration)\n",
    "label = np.linspace(0, duration, length)\n",
    "ax1 = fig.add_subplot(2, 1, 1) # input1\n",
    "ax2 = fig.add_subplot(2, 1, 2) # input2\n",
    "plotdata = np.zeros((length))\n",
    "line1, = ax1.plot(label, recdata[:,0])\n",
    "line2, = ax2.plot(label, recdata[:,1])\n",
    "ax1.set_ylim([-1.0, 1.0])\n",
    "ax2.set_ylim([-1.0, 1.0])\n",
    "ax1.set_xlim([0, duration])\n",
    "ax2.set_xlim([0, duration])\n",
    "ax1.yaxis.grid(True)\n",
    "ax2.yaxis.grid(True)\n",
    "fig.tight_layout()\n",
    "plt.show()\n"
   ]
  },
  {
   "cell_type": "code",
   "execution_count": null,
   "metadata": {},
   "outputs": [],
   "source": [
    "#### サンプルプログラム\n",
    "# アプリのGUIでAPIを選べるようにするために、ASIOやMMEといったAPIとInput/Outputごとにデバイス情報を保持する辞書型変数を作る\n",
    "\n",
    "di = {}\n",
    "for hostapi in sd.query_hostapis():\n",
    "    hostapi_name = hostapi[\"name\"]\n",
    "    di[hostapi_name] = {\"inputs\": [], \"outputs\": []}\n",
    "    for device_numbar in hostapi[\"devices\"]:\n",
    "        device = sd.query_devices(device = device_numbar)\n",
    "        max_in_ch  = device[\"max_input_channels\"]\n",
    "        max_out_ch = device[\"max_output_channels\"]\n",
    "\n",
    "        if max_in_ch > 0:\n",
    "            di[hostapi_name][\"inputs\"].append(device)\n",
    "\n",
    "        if max_out_ch > 0:\n",
    "            di[hostapi_name][\"outputs\"].append(device)\n",
    "di[\"ASIO\"]"
   ]
  }
 ],
 "metadata": {
  "kernelspec": {
   "display_name": "Python 3",
   "language": "python",
   "name": "python3"
  },
  "language_info": {
   "codemirror_mode": {
    "name": "ipython",
    "version": 3
   },
   "file_extension": ".py",
   "mimetype": "text/x-python",
   "name": "python",
   "nbconvert_exporter": "python",
   "pygments_lexer": "ipython3",
   "version": "3.11.7"
  }
 },
 "nbformat": 4,
 "nbformat_minor": 2
}
