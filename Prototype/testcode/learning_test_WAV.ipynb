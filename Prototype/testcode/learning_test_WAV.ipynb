{
 "cells": [
  {
   "cell_type": "code",
   "execution_count": null,
   "metadata": {},
   "outputs": [],
   "source": [
    "from datetime import datetime\n",
    "from pathlib import Path\n",
    "\n",
    "# 初期設定値\n",
    "\n",
    "wav_dir = Path(r\"\\\\nas-t\\開発用\\マイクロフォン異常検知\\実験データ\\20240228倉庫\\サブマイク側\") ## WAVEファイルのパス\n",
    "center_freqs = [250,500,1000,2000,4000]\n",
    "tap = 1024\n",
    "percentile = 90\n",
    "mean_time_sec = 0.1\n",
    "target_freq = \"250\"\n"
   ]
  },
  {
   "cell_type": "code",
   "execution_count": null,
   "metadata": {},
   "outputs": [],
   "source": [
    "# WAVファイルを集める\n",
    "\n",
    "import glob\n",
    "import os\n",
    "\n",
    "wav_file_list = glob.glob(os.path.join(wav_dir,'**','*.WAV'), recursive = True)\n",
    "\n",
    "print(len(wav_file_list))\n",
    "print(wav_file_list)"
   ]
  },
  {
   "cell_type": "code",
   "execution_count": null,
   "metadata": {},
   "outputs": [],
   "source": [
    "# 実音データから異常検知パラメータを求める\n",
    "\n",
    "import pandas as pd\n",
    "import learning_test_func as ln\n",
    "\n",
    "columns = list(map(str,center_freqs))\n",
    "dataset = pd.DataFrame(columns=columns)\n",
    "for file in wav_file_list:\n",
    "    fs, signal = ln.wav_load(file)\n",
    "    oct_freq_masks = ln.make_oct_masks(center_freqs, tap, fs)\n",
    "    data_list = ln.detect_diff_data(signal, tap, oct_freq_masks, fs, mean_time_sec, percentile)\n",
    "    dataset = pd.concat([dataset,pd.DataFrame([data_list], columns=columns)], axis=0)"
   ]
  },
  {
   "cell_type": "code",
   "execution_count": null,
   "metadata": {},
   "outputs": [],
   "source": [
    "# 外れ値を除外する smirnovgrubbs検定\n",
    "\n",
    "o_dataset = {f'{freq}': list() for freq in oct_freq_masks.keys()}\n",
    "for freq in oct_freq_masks.keys():\n",
    "    o_dataset[freq], out = ln.smirnov_grubbs(list(dataset[freq]), 0.05)\n",
    "    print(out)\n"
   ]
  },
  {
   "cell_type": "code",
   "execution_count": null,
   "metadata": {},
   "outputs": [],
   "source": [
    "# データを正規分布に近づける変換後、平均値信頼区間を求めて逆変換する\n",
    "\n",
    "from sklearn.preprocessing import PowerTransformer, MinMaxScaler\n",
    "import itertools\n",
    "import numpy as np\n",
    "from scipy import stats\n",
    "\n",
    "mm = MinMaxScaler()\n",
    "pt = PowerTransformer(method=\"yeo-johnson\",standardize=False,copy=True)\n",
    "\n",
    "t_dataset = {f'{freq}': list() for freq in oct_freq_masks.keys()}\n",
    "t_stats = {f'{freq}': list() for freq in oct_freq_masks.keys()}\n",
    "inv_stats = {f'{freq}': list() for freq in oct_freq_masks.keys()}\n",
    "for freq in oct_freq_masks.keys():\n",
    "    df = pd.DataFrame(o_dataset[freq],copy=True)\n",
    "    mm.fit(df[:])\n",
    "    df[:] = mm.transform(df[:])\n",
    "\n",
    "    pt.fit(df[:])\n",
    "    df[:] = pt.transform(df[:])\n",
    "\n",
    "    n = len(df[:])\n",
    "    dof = n-1\n",
    "    mean =  df[:].mean()\n",
    "    scale =  df[:].std(ddof=1) / np.sqrt(n)\n",
    "    data = stats.t(loc=mean, scale=scale, df=dof)\n",
    "    bottom, upper = data.interval(alpha = 0.95)\n",
    "    t_dataset[freq] = list(itertools.chain.from_iterable(df[:].values.tolist()))\n",
    "    t_stats[freq]  = np.array([mean,bottom,upper]).reshape(-1)\n",
    "    inv_stats[freq] = pt.inverse_transform([mean, bottom, upper]).reshape(-1)\n",
    "    inv_stats[freq] = mm.inverse_transform([mean, bottom, upper]).reshape(-1)\n",
    "\n"
   ]
  },
  {
   "cell_type": "code",
   "execution_count": null,
   "metadata": {},
   "outputs": [],
   "source": [
    "# データセットの平均値信頼区間を求めてグラフに描画する\n",
    "\n",
    "from matplotlib import pyplot as plt\n",
    "\n",
    "m = t_stats[target_freq][0]\n",
    "b = t_stats[target_freq][1]\n",
    "u = t_stats[target_freq][2]\n",
    "\n",
    "fig = plt.figure(figsize=(5, 5))\n",
    "plt.hist(t_dataset[target_freq], ec = 'white',bins = 15)\n",
    "plt.axvline(m, color='orange', linestyle='dashed', linewidth=1)\n",
    "plt.axvspan(b, u, color=\"lightgreen\",alpha = 0.3)\n",
    "plt.ylabel(\"count\")\n",
    "plt.legend([f\"Dataset mean = {str(f'{m:.3g}')}\",\n",
    "            f\"mean interval = {b:.3g} to {u:.3g}\"],\n",
    "            loc='upper left')\n"
   ]
  },
  {
   "cell_type": "code",
   "execution_count": null,
   "metadata": {},
   "outputs": [],
   "source": [
    "# 求めたパラメータのデータ分布を確認する\n",
    "\n",
    "from seaborn_analyzer import hist\n",
    "\n",
    "n,std,se,mean,sk,ku = ln.get_statics(list(dataset[target_freq]))\n",
    "print(f\"サンプルサイズ={n} 平均={mean} 標準偏差={std} 誤差={se} 歪度={sk} 尖度={ku}\")\n",
    "\n",
    "hist.plot_normality(dataset, x=target_freq, rounddigit=2)\n",
    "all_params, all_scores = hist.fit_dist(dataset, x=target_freq, dist=['norm', 'gamma', 'lognorm','cauchy','t'])\n",
    "df_scores = pd.DataFrame(all_scores).T\n",
    "df_scores\n"
   ]
  },
  {
   "cell_type": "code",
   "execution_count": null,
   "metadata": {},
   "outputs": [],
   "source": [
    "# 外れ値除外後のデータ分布を確認する\n",
    "\n",
    "import learning_test as ln\n",
    "\n",
    "n,std,se,mean,sk,ku = ln.get_statics(o_dataset[target_freq])\n",
    "print(f\"サンプルサイズ={n} 平均={mean} 標準偏差={std} 誤差={se} 歪度={sk} 尖度={ku}\")\n",
    "\n",
    "o_df = pd.DataFrame(o_dataset[target_freq],copy=True)\n",
    "hist.plot_normality(o_df, x=0, rounddigit=2)\n",
    "all_params, all_scores = hist.fit_dist(o_df, x=0, dist=['norm', 'gamma', 'lognorm','cauchy','t'])\n",
    "df_scores = pd.DataFrame(all_scores).T\n",
    "df_scores"
   ]
  },
  {
   "cell_type": "code",
   "execution_count": null,
   "metadata": {},
   "outputs": [],
   "source": [
    "# 変換後のデータ分布を確認する\n",
    "\n",
    "from seaborn_analyzer import hist\n",
    "\n",
    "n,std,se,mean,sk,ku = ln.get_statics(t_dataset[target_freq])\n",
    "\n",
    "print(f\"サンプルサイズ={n} 平均={mean} 標準偏差={std} 誤差={se} 歪度={sk} 尖度={ku}\")\n",
    "t_df = pd.DataFrame(t_dataset[target_freq],copy=True)\n",
    "hist.plot_normality(t_df, x=0, rounddigit=2)\n",
    "all_params, all_scores = hist.fit_dist(t_df, x=0, dist=['norm', 'gamma', 'lognorm','cauchy','t'])\n",
    "df_scores = pd.DataFrame(all_scores).T\n",
    "df_scores"
   ]
  }
 ],
 "metadata": {
  "kernelspec": {
   "display_name": "soundvalid",
   "language": "python",
   "name": "python3"
  },
  "language_info": {
   "codemirror_mode": {
    "name": "ipython",
    "version": 3
   },
   "file_extension": ".py",
   "mimetype": "text/x-python",
   "name": "python",
   "nbconvert_exporter": "python",
   "pygments_lexer": "ipython3",
   "version": "3.11.3"
  }
 },
 "nbformat": 4,
 "nbformat_minor": 2
}
