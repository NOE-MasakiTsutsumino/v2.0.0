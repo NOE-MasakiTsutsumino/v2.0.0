{
 "cells": [
  {
   "cell_type": "code",
   "execution_count": null,
   "metadata": {},
   "outputs": [],
   "source": [
    "### 正規分布データを生成して平均値信頼区間を求めるテストコード"
   ]
  },
  {
   "cell_type": "code",
   "execution_count": null,
   "metadata": {},
   "outputs": [],
   "source": [
    "# 測定局の校正完了時刻を設定\n",
    "from datetime import datetime\n",
    "calibrated_time = datetime(year=2022,month=12,day=1,hour=0,minute=0,second=0)"
   ]
  },
  {
   "cell_type": "code",
   "execution_count": null,
   "metadata": {},
   "outputs": [],
   "source": [
    "# 正常統計パラメータ算出\n",
    "# 平均値の区間推定に用いる標本サイズを設定する\n",
    "\n",
    "from scipy.stats import norm\n",
    "from math import ceil\n",
    "\n",
    "error = 0.05               # 許容する誤差によって変える\n",
    "CONFIDENCE = 0.95           # 信頼係数 固定\n",
    "STDV = 0.4                 # 標準偏差 経験的に0.3以下には収まるので固定\n",
    "\n",
    "z = norm.ppf(q=(1+CONFIDENCE)/2, loc=0, scale=1) # CONFIDENCE点でのzスコア\n",
    "n = ceil((z*STDV/error)**2)\n",
    "print(n)"
   ]
  },
  {
   "cell_type": "code",
   "execution_count": null,
   "metadata": {},
   "outputs": [],
   "source": [
    "# 正規分布乱数の生成\n",
    "import matplotlib.pyplot as plt\n",
    "import numpy as np\n",
    "mean = 0\n",
    "sigma = 0.5\n",
    "size = 385\n",
    "dataset = np.random.normal(mean, sigma, size)\n",
    "\n",
    "std = np.std(dataset,ddof=1)\n",
    "se = std/np.sqrt(size)\n",
    "print(std,se)\n",
    "plt.hist(dataset)\n",
    "plt.show()\n"
   ]
  },
  {
   "cell_type": "code",
   "execution_count": null,
   "metadata": {},
   "outputs": [],
   "source": [
    "# テストデータの平均値推定\n",
    "from scipy import stats\n",
    "\n",
    "n = len(dataset)\n",
    "dof = n-1\n",
    "CONFIDENCE = 0.95\n",
    "d_mean = np.mean(dataset)\n",
    "std = np.std(dataset,ddof=1)\n",
    "scale = std/np.sqrt(n)\n",
    "se = std/np.sqrt(size)\n",
    "t_data = stats.t(loc=mean, scale=scale, df=dof)\n",
    "n_bottom, n_upper = t_data.interval(alpha = CONFIDENCE)\n",
    "\n",
    "tolerance = 0.5\n",
    "\n",
    "print(f\"標本平均 = {d_mean}\")\n",
    "print(f\"{CONFIDENCE*100}%の確率で [{n_bottom} < 母平均 < {n_upper}]\")\n",
    "print(f\"標本から求めた標準偏差= {std}\")\n",
    "print(f\"標準誤差 = {se}\")\n",
    "print(f\"区間幅 = {n_bottom-n_upper}\")\n",
    "\n",
    "plt.hist(dataset)\n",
    "plt.axvspan(n_bottom, n_upper, color=\"orange\",alpha = 0.3)\n",
    "plt.axvspan(n_bottom - tolerance, n_bottom, color=\"lightgreen\",alpha = 0.3)\n",
    "plt.axvspan(n_upper, n_upper + tolerance, color=\"lightgreen\",alpha = 0.3)\n",
    "plt.show()"
   ]
  },
  {
   "cell_type": "code",
   "execution_count": null,
   "metadata": {},
   "outputs": [],
   "source": [
    "# 外れ値の除外 smirnovgrubbs検定の実装\n",
    "import numpy as np\n",
    "from scipy import stats\n",
    "\n",
    "def smirnov_grubbs(x, alpha):\n",
    "    x_ini = x\n",
    "    while(True):\n",
    "        mean = np.mean(x)\n",
    "        std = np.std(x, ddof=1)\n",
    "        imax, imin = np.argmax(x), np.argmin(x)\n",
    "        itest = imax if np.abs(x[imax] - mean) > np.abs(x[imin] - mean) else imin\n",
    "        test =  np.abs(x[itest] - mean)/std\n",
    "        n = x.size\n",
    "        t = stats.t.isf((alpha/n)/2, n-2)\n",
    "        tau = (n-1)/np.sqrt(n) * np.sqrt(t**2/(n-2 + t**2))\n",
    "        if(test > tau):\n",
    "            x = np.delete(x, itest)\n",
    "        else:\n",
    "            break\n",
    "    x_outlier = np.setdiff1d(x_ini,x)\n",
    "    return x, x_outlier\n",
    "\n",
    "print(smirnov_grubbs(dataset, 0.05))"
   ]
  },
  {
   "cell_type": "code",
   "execution_count": null,
   "metadata": {},
   "outputs": [],
   "source": [
    "# 正規分布乱数の生成2\n",
    "import matplotlib.pyplot as plt\n",
    "import numpy as np\n",
    "mean = -0.5\n",
    "sigma = 0.5\n",
    "size = 385\n",
    "dataset2 = np.random.normal(mean, sigma, size)\n",
    "\n",
    "std = np.std(dataset2,ddof=1)\n",
    "se = std/np.sqrt(size)\n",
    "print(std,se)\n",
    "plt.hist(dataset2)\n",
    "plt.show()"
   ]
  },
  {
   "cell_type": "code",
   "execution_count": null,
   "metadata": {},
   "outputs": [],
   "source": [
    "# テストデータの平均値推定1\n",
    "from scipy import stats\n",
    "import matplotlib.pyplot as plt\n",
    "import numpy as np\n",
    "mean = 0\n",
    "sigma = 0.5\n",
    "size = 385\n",
    "dataset = np.random.normal(mean, sigma, size)\n",
    "\n",
    "n2 = len(dataset)\n",
    "dof = n-1\n",
    "CONFIDENCE = 0.95\n",
    "d_mean = np.mean(dataset)\n",
    "std = np.std(dataset,ddof=1)\n",
    "scale = std/np.sqrt(n)\n",
    "se = std/np.sqrt(size)\n",
    "t_data = stats.t(loc=d_mean, scale=scale, df=dof)\n",
    "bottom, upper = t_data.interval(alpha = CONFIDENCE)\n",
    "\n",
    "print(f\"標本平均 = {d_mean}\")\n",
    "print(f\"{CONFIDENCE*100}%の確率で [{bottom} < 母平均 < {upper}]\")\n",
    "print(f\"標本から求めた標準偏差= {std}\")\n",
    "print(f\"標準誤差 = {se}\")\n",
    "print(f\"区間幅 = {bottom-upper}\")\n",
    "\n",
    "plt.hist(dataset)\n",
    "plt.axvspan(bottom, upper, color=\"skyblue\",alpha = 0.3)"
   ]
  },
  {
   "cell_type": "code",
   "execution_count": null,
   "metadata": {},
   "outputs": [],
   "source": [
    "# テストデータの平均値推定2\n",
    "from scipy import stats\n",
    "import matplotlib.pyplot as plt\n",
    "import numpy as np\n",
    "mean = -0.5\n",
    "sigma = 0.5\n",
    "size = 385\n",
    "dataset2 = np.random.normal(mean, sigma, size)\n",
    "\n",
    "n2 = len(dataset2)\n",
    "dof = n-1\n",
    "CONFIDENCE = 0.95\n",
    "d_mean2 = np.mean(dataset2)\n",
    "std2 = np.std(dataset2,ddof=1)\n",
    "scale2 = std2/np.sqrt(n)\n",
    "se2 = std2/np.sqrt(size)\n",
    "t_data = stats.t(loc=d_mean2, scale=scale2, df=dof)\n",
    "bottom2, upper2 = t_data.interval(alpha = CONFIDENCE)\n",
    "\n",
    "print(f\"標本平均 = {d_mean2}\")\n",
    "print(f\"{CONFIDENCE*100}%の確率で [{bottom2} < 母平均 < {upper2}]\")\n",
    "print(f\"標本から求めた標準偏差= {std2}\")\n",
    "print(f\"標準誤差 = {se2}\")\n",
    "print(f\"区間幅 = {bottom2-upper2}\")\n",
    "\n",
    "plt.hist(dataset2,color=\"orange\")\n",
    "plt.axvspan(bottom2, upper2, color=\"red\",alpha = 0.3)\n",
    "# plt.axvspan(n_bottom - tolerance, n_bottom, color=\"lightgreen\",alpha = 0.3)\n",
    "# plt.axvspan(n_upper, n_upper + tolerance, color=\"lightgreen\",alpha = 0.3)\n",
    "# plt.axvspan(bottom, upper, color=\"red\",alpha = 0.3)\n",
    "# plt.show()"
   ]
  },
  {
   "cell_type": "code",
   "execution_count": null,
   "metadata": {},
   "outputs": [],
   "source": [
    "# 比較\n",
    "tolerance = 0.5\n",
    "plt.hist(dataset2,color=\"orange\")\n",
    "plt.axvspan(bottom, upper, color=\"skyblue\",alpha = 0.3)\n",
    "plt.axvspan(bottom2, upper2, color=\"red\",alpha = 0.3)\n",
    "plt.axvspan(bottom - tolerance, bottom, color=\"lightgreen\",alpha = 0.3)\n",
    "plt.axvspan(upper, upper + tolerance, color=\"lightgreen\",alpha = 0.3)\n",
    "\n",
    "plt.show()"
   ]
  }
 ],
 "metadata": {
  "kernelspec": {
   "display_name": "soundvalid",
   "language": "python",
   "name": "python3"
  },
  "language_info": {
   "codemirror_mode": {
    "name": "ipython",
    "version": 3
   },
   "file_extension": ".py",
   "mimetype": "text/x-python",
   "name": "python",
   "nbconvert_exporter": "python",
   "pygments_lexer": "ipython3",
   "version": "3.11.3"
  }
 },
 "nbformat": 4,
 "nbformat_minor": 2
}
