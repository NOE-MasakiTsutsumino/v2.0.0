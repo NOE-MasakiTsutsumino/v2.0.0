{
 "cells": [
  {
   "cell_type": "code",
   "execution_count": null,
   "metadata": {},
   "outputs": [],
   "source": [
    "# CH53のデータをロバストスケーリング、外れ値除外、yeo-ijonson変換の順で平均値信頼区間を求める\n",
    "\n",
    "from datetime import datetime\n",
    "from pathlib import Path\n",
    "\n",
    "# 初期設定値\n",
    "\n",
    "wav_dir = Path(r\"D:\\Diana\\新千歳空港\\WAVE\") ## WAVEファイルのパス\n",
    "stid = \"CH53\"   ## 測定局ID\n",
    "calibrated_time = datetime(year=2022,month=12,day=1,hour=0,minute=0,second=0)   ## 校正完了時間\n",
    "sample_size = 100   ## サンプルサイズ\n",
    "center_freqs = [250,500,1000,2000]\n",
    "tap = 1024\n",
    "percentile = 10\n",
    "mean_time_sec = 0.1\n",
    "target_freq = \"1000\"\n"
   ]
  },
  {
   "cell_type": "code",
   "execution_count": null,
   "metadata": {},
   "outputs": [],
   "source": [
    "# WAVファイルを集める\n",
    "\n",
    "from datetime import timedelta\n",
    "import learning_test_func as ln\n",
    "\n",
    "time = calibrated_time\n",
    "wav_file_list = []\n",
    "while len(wav_file_list) < sample_size:\n",
    "    event_time, path = ln.get_event_time(stid, wav_dir, time)\n",
    "    if not event_time:\n",
    "        print(\"失敗\")\n",
    "        break\n",
    "    wav_file_list.append(path)\n",
    "    time = event_time + timedelta(seconds = 1)\n",
    "print(f\"{calibrated_time}～{event_time}\")"
   ]
  },
  {
   "cell_type": "code",
   "execution_count": null,
   "metadata": {},
   "outputs": [],
   "source": [
    "# 実音データから異常検知パラメータを求める\n",
    "\n",
    "import pandas as pd\n",
    "\n",
    "columns = list(map(str,center_freqs))\n",
    "dataset = pd.DataFrame(columns=columns)\n",
    "for file in wav_file_list:\n",
    "    fs, signal = ln.wav_load(file)\n",
    "    oct_freq_masks = ln.make_oct_masks(center_freqs, tap, fs)\n",
    "    data_list = ln.detect_diff_data(signal, tap, oct_freq_masks, fs, mean_time_sec, percentile)\n",
    "    dataset = pd.concat([dataset,pd.DataFrame([data_list], columns=columns)], axis=0)"
   ]
  },
  {
   "cell_type": "code",
   "execution_count": null,
   "metadata": {},
   "outputs": [],
   "source": [
    "# ロバストスケーリング\n",
    "\n",
    "from sklearn.preprocessing import RobustScaler\n",
    "import itertools\n",
    "\n",
    "rb = RobustScaler(with_centering=False,with_scaling=True)\n",
    "# pt = PowerTransformer(method=\"yeo-johnson\",standardize=False,copy=True)\n",
    "\n",
    "r_dataset = {f'{freq}': list() for freq in oct_freq_masks.keys()}\n",
    "for freq in oct_freq_masks.keys():\n",
    "    r_df = pd.DataFrame(dataset[freq],copy=True)\n",
    "\n",
    "    rb.fit(r_df[:])\n",
    "    r_df[:] = rb.transform(r_df[:])\n",
    "\n",
    "    r_dataset[freq] = list(itertools.chain.from_iterable(r_df[:].values.tolist()))\n"
   ]
  },
  {
   "cell_type": "code",
   "execution_count": null,
   "metadata": {},
   "outputs": [],
   "source": [
    "# 外れ値を除外する smirnovgrubbs\n",
    "\n",
    "o_dataset = {f'{freq}': list() for freq in oct_freq_masks.keys()}\n",
    "for freq in oct_freq_masks.keys():\n",
    "    o_dataset[freq], out = ln.smirnov_grubbs(list(r_dataset[freq]), 0.05)\n",
    "    print(out)\n"
   ]
  },
  {
   "cell_type": "code",
   "execution_count": null,
   "metadata": {},
   "outputs": [],
   "source": [
    "# yeo-jhonson変換\n",
    "\n",
    "from sklearn.preprocessing import PowerTransformer\n",
    "import itertools\n",
    "\n",
    "pt = PowerTransformer(method=\"yeo-johnson\",standardize=False,copy=True)\n",
    "\n",
    "t_dataset = {f'{freq}': list() for freq in oct_freq_masks.keys()}\n",
    "for freq in oct_freq_masks.keys():\n",
    "    t_df = pd.DataFrame(o_dataset[freq],copy=True)\n",
    "\n",
    "    pt.fit(t_df[:])\n",
    "    t_df[:] = pt.transform(t_df[:])\n",
    "\n",
    "    t_dataset[freq] = list(itertools.chain.from_iterable(t_df[:].values.tolist()))"
   ]
  },
  {
   "cell_type": "code",
   "execution_count": null,
   "metadata": {},
   "outputs": [],
   "source": [
    "# 求めたパラメータのデータ分布を確認する\n",
    "\n",
    "from seaborn_analyzer import hist\n",
    "\n",
    "n,std,se,mean,sk,ku = ln.get_statics(list(dataset[target_freq]))\n",
    "print(f\"サンプルサイズ={n} 平均={mean} 標準偏差={std} 誤差={se} 歪度={sk} 尖度={ku}\")\n",
    "\n",
    "hist.plot_normality(dataset, x=target_freq, norm_hist=False, rounddigit=5)\n",
    "# all_params, all_scores = hist.fit_dist(dataset, x=target_freq)\n",
    "# df_scores = pd.DataFrame(all_scores).T"
   ]
  },
  {
   "cell_type": "code",
   "execution_count": null,
   "metadata": {},
   "outputs": [],
   "source": [
    "# ロバストスケーリング後のデータ分布を確認する\n",
    "\n",
    "n,std,se,mean,sk,ku = ln.get_statics(r_dataset[target_freq])\n",
    "print(f\"サンプルサイズ={n} 平均={mean} 標準偏差={std} 誤差={se} 歪度={sk} 尖度={ku}\")\n",
    "\n",
    "df = pd.DataFrame(r_dataset[target_freq],copy=True)\n",
    "hist.plot_normality(df, x=0, norm_hist=False, rounddigit=5)\n",
    "# all_params, all_scores = hist.fit_dist(df, x=0, dist=['norm','cauchy'])\n",
    "# df_scores = pd.DataFrame(all_scores).T"
   ]
  },
  {
   "cell_type": "code",
   "execution_count": null,
   "metadata": {},
   "outputs": [],
   "source": [
    "# 外れ値除外後のデータ分布を確認する\n",
    "\n",
    "n,std,se,mean,sk,ku = ln.get_statics(o_dataset[target_freq])\n",
    "print(f\"サンプルサイズ={n} 平均={mean} 標準偏差={std} 誤差={se} 歪度={sk} 尖度={ku}\")\n",
    "\n",
    "o_df = pd.DataFrame(o_dataset[target_freq],copy=True)\n",
    "hist.plot_normality(o_df, x=0, norm_hist=False, rounddigit=5)\n",
    "# all_params, all_scores = hist.fit_dist(o_df, x=0, dist=['norm','cauchy'])\n",
    "# df_scores = pd.DataFrame(all_scores).T"
   ]
  },
  {
   "cell_type": "code",
   "execution_count": null,
   "metadata": {},
   "outputs": [],
   "source": [
    "# yeo-jhonson変換後のデータ分布を確認する\n",
    "\n",
    "n,std,se,mean,sk,ku = ln.get_statics(t_dataset[target_freq])\n",
    "print(f\"サンプルサイズ={n} 平均={mean} 標準偏差={std} 誤差={se} 歪度={sk} 尖度={ku}\")\n",
    "\n",
    "t_df = pd.DataFrame(t_dataset[target_freq],copy=True)\n",
    "hist.plot_normality(t_df, x=0, norm_hist=False, rounddigit=5)\n",
    "# all_params, all_scores = hist.fit_dist(t_df, x=0, dist=['norm','cauchy'])\n",
    "# df_scores = pd.DataFrame(all_scores).T"
   ]
  },
  {
   "cell_type": "code",
   "execution_count": null,
   "metadata": {},
   "outputs": [],
   "source": [
    "# データセットの平均値信頼区間を求める\n",
    "\n",
    "import numpy as np\n",
    "from scipy import stats\n",
    "from matplotlib import pyplot as plt\n",
    "\n",
    "t_n = len(t_dataset[target_freq])\n",
    "t_dof = t_n-1\n",
    "t_mean = np.mean(t_dataset[target_freq])\n",
    "t_scale = np.std(t_dataset[target_freq],ddof=1)/np.sqrt(t_n)\n",
    "t_data = stats.t(loc=t_mean, scale=t_scale, df=t_dof)\n",
    "bottom, upper = t_data.interval(alpha = 0.95)\n",
    "\n",
    "print(mean, bottom, upper)\n",
    "\n",
    "fig = plt.figure(figsize=(5, 5))\n",
    "plt.hist(t_dataset[target_freq], ec = 'white',)\n",
    "plt.axvline(t_mean, color='orange', linestyle='dashed', linewidth=1)\n",
    "plt.axvspan(bottom, upper, color=\"lightgreen\",alpha = 0.3)\n",
    "plt.ylabel(\"count\")\n",
    "plt.title(target_freq)\n",
    "plt.legend([f\"Dataset mean = {str(f'{t_mean:.3g}')}\",\n",
    "            f\"mean interval = {bottom:.3g} to {upper:.3g}\"],\n",
    "            loc='upper left')\n"
   ]
  },
  {
   "cell_type": "code",
   "execution_count": null,
   "metadata": {},
   "outputs": [],
   "source": [
    "# データの逆変換\n",
    "\n",
    "inv_stats = pt.inverse_transform(np.array([mean,bottom,upper]).reshape(-1, 1))\n",
    "inv_stats = rb.inverse_transform(inv_stats)\n",
    "\n",
    "print(inv_stats)"
   ]
  }
 ],
 "metadata": {
  "kernelspec": {
   "display_name": "soundvalid",
   "language": "python",
   "name": "python3"
  },
  "language_info": {
   "codemirror_mode": {
    "name": "ipython",
    "version": 3
   },
   "file_extension": ".py",
   "mimetype": "text/x-python",
   "name": "python",
   "nbconvert_exporter": "python",
   "pygments_lexer": "ipython3",
   "version": "3.11.8"
  }
 },
 "nbformat": 4,
 "nbformat_minor": 2
}
